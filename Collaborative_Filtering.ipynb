{
 "cells": [
  {
   "cell_type": "markdown",
   "metadata": {},
   "source": [
    "Adjusted cosine - normalises rating values by the users mean rating, whilst the pearson similarity noramlises against the total average rating.\n",
    "spearman rank correlation: like the pearson similarity based on ranks, not ratings. \n",
    "mean squared difference: difference between users ratings / mean of all the items ratings.\n",
    "consider jaccard for implicit data."
   ]
  },
  {
   "cell_type": "markdown",
   "metadata": {},
   "source": [
    "User -> Item rating matrix\n",
    "User -> User similarity matrix\n",
    "look up similar users\n",
    "candidate generation\n",
    "candidate scoring\n",
    "candidate filtering"
   ]
  },
  {
   "cell_type": "code",
   "execution_count": 1,
   "metadata": {},
   "outputs": [],
   "source": [
    "from MovieLens import MovieLens\n",
    "from surprise import KNNBasic\n",
    "import heapq\n",
    "from collections import defaultdict\n",
    "from operator import itemgetter"
   ]
  },
  {
   "cell_type": "code",
   "execution_count": 2,
   "metadata": {},
   "outputs": [
    {
     "name": "stdout",
     "output_type": "stream",
     "text": [
      "Computing the cosine similarity matrix...\n",
      "Done computing similarity matrix.\n",
      "Computing the cosine similarity matrix...\n",
      "Done computing similarity matrix.\n"
     ]
    }
   ],
   "source": [
    "testSubject = '85'\n",
    "k = 10\n",
    "\n",
    "# Load our data set and compute the user similarity matrix\n",
    "ml = MovieLens()\n",
    "data = ml.loadMovieLensLatestSmall()\n",
    "\n",
    "trainSet = data.build_full_trainset()\n",
    "\n",
    "sim_options = {'name': 'cosine',\n",
    "               'user_based': True\n",
    "               }\n",
    "\n",
    "model = KNNBasic(sim_options=sim_options)\n",
    "model.fit(trainSet)\n",
    "simsMatrix = model.compute_similarities()"
   ]
  },
  {
   "cell_type": "code",
   "execution_count": 3,
   "metadata": {},
   "outputs": [],
   "source": [
    "# Get top N similar users to our test subject\n",
    "# (Alternate approach would be to select users up to some similarity threshold - try it!)\n",
    "testUserInnerID = trainSet.to_inner_uid(testSubject)\n",
    "similarityRow = simsMatrix[testUserInnerID]\n",
    "\n",
    "similarUsers = []\n",
    "for innerID, score in enumerate(similarityRow):\n",
    "    if (innerID != testUserInnerID):\n",
    "        similarUsers.append( (innerID, score) )\n",
    "\n",
    "kNeighbors = heapq.nlargest(k, similarUsers, key=lambda t: t[1])"
   ]
  },
  {
   "cell_type": "markdown",
   "metadata": {},
   "source": [
    "kNeighbours =[]\n",
    "for rating in similarUsers:\n",
    "    if rating[1] > 0.95:\n",
    "    kNeighbours.append(rating)"
   ]
  },
  {
   "cell_type": "code",
   "execution_count": 4,
   "metadata": {},
   "outputs": [],
   "source": [
    "# Get the stuff they rated, and add up ratings for each item, weighted by user similarity\n",
    "candidates = defaultdict(float)\n",
    "for similarUser in kNeighbors:\n",
    "    innerID = similarUser[0]\n",
    "    userSimilarityScore = similarUser[1]\n",
    "    theirRatings = trainSet.ur[innerID]\n",
    "    for rating in theirRatings:\n",
    "        candidates[rating[0]] += (rating[1] / 5.0) * userSimilarityScore"
   ]
  },
  {
   "cell_type": "code",
   "execution_count": 5,
   "metadata": {},
   "outputs": [],
   "source": [
    "# Build a dictionary of stuff the user has already seen\n",
    "watched = {}\n",
    "for itemID, rating in trainSet.ur[testUserInnerID]:\n",
    "    watched[itemID] = 1"
   ]
  },
  {
   "cell_type": "code",
   "execution_count": 6,
   "metadata": {},
   "outputs": [
    {
     "name": "stdout",
     "output_type": "stream",
     "text": [
      "Inception (2010) 3.3\n",
      "Star Wars: Episode V - The Empire Strikes Back (1980) 2.4\n",
      "Bourne Identity, The (1988) 2.0\n",
      "Crouching Tiger, Hidden Dragon (Wo hu cang long) (2000) 2.0\n",
      "Dark Knight, The (2008) 2.0\n",
      "Good, the Bad and the Ugly, The (Buono, il brutto, il cattivo, Il) (1966) 1.9\n",
      "Departed, The (2006) 1.9\n",
      "Dark Knight Rises, The (2012) 1.9\n",
      "Back to the Future (1985) 1.9\n",
      "Gravity (2013) 1.8\n",
      "Fight Club (1999) 1.8\n"
     ]
    }
   ],
   "source": [
    "# Get top-rated items from similar users:\n",
    "pos = 0\n",
    "for itemID, ratingSum in sorted(candidates.items(), key=itemgetter(1), reverse=True):\n",
    "    if not itemID in watched:\n",
    "        movieID = trainSet.to_raw_iid(itemID)\n",
    "        print(ml.getMovieName(int(movieID)), ratingSum)\n",
    "        pos += 1\n",
    "        if (pos > 10):\n",
    "            break"
   ]
  },
  {
   "cell_type": "markdown",
   "metadata": {},
   "source": [
    "Item-based Collaborative Filtering"
   ]
  },
  {
   "cell_type": "code",
   "execution_count": 7,
   "metadata": {},
   "outputs": [
    {
     "name": "stdout",
     "output_type": "stream",
     "text": [
      "Computing the cosine similarity matrix...\n",
      "Done computing similarity matrix.\n",
      "Computing the cosine similarity matrix...\n",
      "Done computing similarity matrix.\n"
     ]
    }
   ],
   "source": [
    "testSubject = '85'\n",
    "k = 10\n",
    "\n",
    "ml = MovieLens()\n",
    "data = ml.loadMovieLensLatestSmall()\n",
    "\n",
    "trainSet = data.build_full_trainset()\n",
    "\n",
    "sim_options = {'name': 'cosine',\n",
    "               'user_based': False\n",
    "               }\n",
    "\n",
    "model = KNNBasic(sim_options=sim_options)\n",
    "model.fit(trainSet)\n",
    "simsMatrix = model.compute_similarities()\n",
    "\n",
    "testUserInnerID = trainSet.to_inner_uid(testSubject)"
   ]
  },
  {
   "cell_type": "code",
   "execution_count": 8,
   "metadata": {},
   "outputs": [],
   "source": [
    "# Get the top K items we rated\n",
    "testUserRatings = trainSet.ur[testUserInnerID]\n",
    "kNeighbors = heapq.nlargest(k, testUserRatings, key=lambda t: t[1])\n"
   ]
  },
  {
   "cell_type": "markdown",
   "metadata": {},
   "source": [
    "kNeighbors = []\n",
    "for rating in testUserRatings:\n",
    "    if rating[1] > 4.0:\n",
    "    kNeighbours.append(rating)"
   ]
  },
  {
   "cell_type": "code",
   "execution_count": 9,
   "metadata": {},
   "outputs": [],
   "source": [
    "# Get similar items to stuff we liked (weighted by rating)\n",
    "candidates = defaultdict(float)\n",
    "for itemID, rating in kNeighbors:\n",
    "    similarityRow = simsMatrix[itemID]\n",
    "    for innerID, score in enumerate(similarityRow):\n",
    "        candidates[innerID] += score * (rating / 5.0)"
   ]
  },
  {
   "cell_type": "code",
   "execution_count": 10,
   "metadata": {},
   "outputs": [],
   "source": [
    "# Build a dictionary of stuff the user has already seen\n",
    "watched = {}\n",
    "for itemID, rating in trainSet.ur[testUserInnerID]:\n",
    "    watched[itemID] = 1"
   ]
  },
  {
   "cell_type": "code",
   "execution_count": 11,
   "metadata": {},
   "outputs": [
    {
     "name": "stdout",
     "output_type": "stream",
     "text": [
      "James Dean Story, The (1957) 10.0\n",
      "Get Real (1998) 9.987241120712646\n",
      "Kiss of Death (1995) 9.966881877751941\n",
      "Set It Off (1996) 9.963732215657119\n",
      "How Green Was My Valley (1941) 9.943984081065269\n",
      "Amos & Andrew (1993) 9.93973694500253\n",
      "My Crazy Life (Mi vida loca) (1993) 9.938290487546041\n",
      "Grace of My Heart (1996) 9.926255896645218\n",
      "Fanny and Alexander (Fanny och Alexander) (1982) 9.925699671455906\n",
      "Wild Reeds (Les roseaux sauvages) (1994) 9.916226404418774\n",
      "Edge of Seventeen (1998) 9.913028764691676\n"
     ]
    }
   ],
   "source": [
    "# Get top-rated items from similar users:\n",
    "pos = 0\n",
    "for itemID, ratingSum in sorted(candidates.items(), key=itemgetter(1), reverse=True):\n",
    "    if not itemID in watched:\n",
    "        movieID = trainSet.to_raw_iid(itemID)\n",
    "        print(ml.getMovieName(int(movieID)), ratingSum)\n",
    "        pos += 1\n",
    "        if (pos > 10):\n",
    "            break"
   ]
  },
  {
   "cell_type": "code",
   "execution_count": 12,
   "metadata": {},
   "outputs": [],
   "source": [
    "from MovieLens import MovieLens\n",
    "from surprise import KNNBasic\n",
    "import heapq\n",
    "from collections import defaultdict\n",
    "from operator import itemgetter\n",
    "from surprise.model_selection import LeaveOneOut\n",
    "from RecommenderMetrics import RecommenderMetrics\n",
    "from EvaluationData import EvaluationData"
   ]
  },
  {
   "cell_type": "code",
   "execution_count": 13,
   "metadata": {},
   "outputs": [
    {
     "name": "stdout",
     "output_type": "stream",
     "text": [
      "Loading movie ratings...\n",
      "\n",
      "Computing movie popularity ranks so we can measure novelty later...\n",
      "Estimating biases using als...\n",
      "Computing the cosine similarity matrix...\n",
      "Done computing similarity matrix.\n"
     ]
    }
   ],
   "source": [
    "def LoadMovieLensData():\n",
    "    ml = MovieLens()\n",
    "    print(\"Loading movie ratings...\")\n",
    "    data = ml.loadMovieLensLatestSmall()\n",
    "    print(\"\\nComputing movie popularity ranks so we can measure novelty later...\")\n",
    "    rankings = ml.getPopularityRanks()\n",
    "    return (ml, data, rankings)\n",
    "\n",
    "ml, data, rankings = LoadMovieLensData()\n",
    "\n",
    "evalData = EvaluationData(data, rankings)"
   ]
  },
  {
   "cell_type": "code",
   "execution_count": 14,
   "metadata": {},
   "outputs": [
    {
     "name": "stdout",
     "output_type": "stream",
     "text": [
      "Computing the cosine similarity matrix...\n",
      "Done computing similarity matrix.\n",
      "Computing the cosine similarity matrix...\n",
      "Done computing similarity matrix.\n"
     ]
    }
   ],
   "source": [
    "# Train on leave-One-Out train set\n",
    "trainSet = evalData.GetLOOCVTrainSet()\n",
    "sim_options = {'name': 'cosine',\n",
    "               'user_based': True\n",
    "               }\n",
    "\n",
    "model = KNNBasic(sim_options=sim_options)\n",
    "model.fit(trainSet)\n",
    "simsMatrix = model.compute_similarities()\n",
    "\n",
    "leftOutTestSet = evalData.GetLOOCVTestSet()"
   ]
  },
  {
   "cell_type": "code",
   "execution_count": 15,
   "metadata": {},
   "outputs": [
    {
     "name": "stdout",
     "output_type": "stream",
     "text": [
      "HR 0.05514157973174367\n"
     ]
    }
   ],
   "source": [
    "# Build up dict to lists of (int(movieID), predictedrating) pairs\n",
    "topN = defaultdict(list)\n",
    "k = 10\n",
    "for uiid in range(trainSet.n_users):\n",
    "    # Get top N similar users to this one\n",
    "    similarityRow = simsMatrix[uiid]\n",
    "    \n",
    "    similarUsers = []\n",
    "    for innerID, score in enumerate(similarityRow):\n",
    "        if (innerID != uiid):\n",
    "            similarUsers.append( (innerID, score) )\n",
    "    \n",
    "    kNeighbors = heapq.nlargest(k, similarUsers, key=lambda t: t[1])\n",
    "    \n",
    "    # Get the stuff they rated, and add up ratings for each item, weighted by user similarity\n",
    "    candidates = defaultdict(float)\n",
    "    for similarUser in kNeighbors:\n",
    "        innerID = similarUser[0]\n",
    "        userSimilarityScore = similarUser[1]\n",
    "        theirRatings = trainSet.ur[innerID]\n",
    "        for rating in theirRatings:\n",
    "            candidates[rating[0]] += (rating[1] / 5.0) * userSimilarityScore\n",
    "        \n",
    "    # Build a dictionary of stuff the user has already seen\n",
    "    watched = {}\n",
    "    for itemID, rating in trainSet.ur[uiid]:\n",
    "        watched[itemID] = 1\n",
    "        \n",
    "    # Get top-rated items from similar users:\n",
    "    pos = 0\n",
    "    for itemID, ratingSum in sorted(candidates.items(), key=itemgetter(1), reverse=True):\n",
    "        if not itemID in watched:\n",
    "            movieID = trainSet.to_raw_iid(itemID)\n",
    "            topN[int(trainSet.to_raw_uid(uiid))].append( (int(movieID), 0.0) )\n",
    "            pos += 1\n",
    "            if (pos > 40):\n",
    "                break\n",
    "    \n",
    "# Measure\n",
    "print(\"HR\", RecommenderMetrics.HitRate(topN, leftOutTestSet)) "
   ]
  },
  {
   "cell_type": "markdown",
   "metadata": {},
   "source": [
    "Calculate Hit rate for item-based CF"
   ]
  },
  {
   "cell_type": "code",
   "execution_count": 16,
   "metadata": {},
   "outputs": [
    {
     "name": "stdout",
     "output_type": "stream",
     "text": [
      "Computing the cosine similarity matrix...\n",
      "Done computing similarity matrix.\n",
      "Computing the cosine similarity matrix...\n",
      "Done computing similarity matrix.\n"
     ]
    }
   ],
   "source": [
    "# Train on leave-One-Out train set\n",
    "trainSet = evalData.GetLOOCVTrainSet()\n",
    "sim_options = {'name': 'cosine',\n",
    "               'user_based': False\n",
    "               }\n",
    "\n",
    "model = KNNBasic(sim_options=sim_options)\n",
    "model.fit(trainSet)\n",
    "simsMatrix = model.compute_similarities()\n",
    "\n",
    "leftOutTestSet = evalData.GetLOOCVTestSet()"
   ]
  },
  {
   "cell_type": "code",
   "execution_count": 17,
   "metadata": {},
   "outputs": [
    {
     "name": "stdout",
     "output_type": "stream",
     "text": [
      "HR 0.0\n"
     ]
    }
   ],
   "source": [
    "# Build up dict to lists of (int(movieID), predictedrating) pairs\n",
    "topN = defaultdict(list)\n",
    "k = 10\n",
    "for uiid in range(trainSet.n_users):\n",
    "    # Get top N similar users to this one\n",
    "    testUserRatings = trainSet.ur[testUserInnerID]\n",
    "    kNeighbors = heapq.nlargest(k, testUserRatings, key=lambda t: t[1])\n",
    "    \n",
    "    # Get the stuff they rated, and add up ratings for each item, weighted by user similarity\n",
    "    candidates = defaultdict(float)\n",
    "    for itemID, rating in kNeighbors:\n",
    "        similarityRow = simsMatrix[itemID]\n",
    "        for innerID, score in enumerate(similarityRow):\n",
    "            candidates[innerID] += score * (rating / 5.0)\n",
    "        \n",
    "    # Build a dictionary of stuff the user has already seen\n",
    "    watched = {}\n",
    "    for itemID, rating in trainSet.ur[uiid]:\n",
    "        watched[itemID] = 1\n",
    "        \n",
    "    # Get top-rated items from similar users:\n",
    "    pos = 0\n",
    "    for itemID, ratingSum in sorted(candidates.items(), key=itemgetter(1), reverse=True):\n",
    "        if not itemID in watched:\n",
    "            movieID = trainSet.to_raw_iid(itemID)\n",
    "            topN[int(trainSet.to_raw_uid(uiid))].append( (int(movieID), 0.0) )\n",
    "            pos += 1\n",
    "            if (pos > 40):\n",
    "                break\n",
    "    \n",
    "# Measure\n",
    "print(\"HR\", RecommenderMetrics.HitRate(topN, leftOutTestSet)) "
   ]
  },
  {
   "cell_type": "code",
   "execution_count": 18,
   "metadata": {},
   "outputs": [],
   "source": [
    "from MovieLens import MovieLens\n",
    "from surprise import KNNBasic\n",
    "from surprise import NormalPredictor\n",
    "from Evaluator import Evaluator\n",
    "\n",
    "import random\n",
    "import numpy as np"
   ]
  },
  {
   "cell_type": "code",
   "execution_count": 19,
   "metadata": {},
   "outputs": [],
   "source": [
    "def LoadMovieLensData():\n",
    "    ml = MovieLens()\n",
    "    print(\"Loading movie ratings...\")\n",
    "    data = ml.loadMovieLensLatestSmall()\n",
    "    print(\"\\nComputing movie popularity ranks so we can measure novelty later...\")\n",
    "    rankings = ml.getPopularityRanks()\n",
    "    return (ml, data, rankings)\n",
    "\n",
    "np.random.seed(0)\n",
    "random.seed(0)"
   ]
  },
  {
   "cell_type": "code",
   "execution_count": 20,
   "metadata": {},
   "outputs": [
    {
     "name": "stdout",
     "output_type": "stream",
     "text": [
      "Loading movie ratings...\n",
      "\n",
      "Computing movie popularity ranks so we can measure novelty later...\n",
      "Estimating biases using als...\n",
      "Computing the cosine similarity matrix...\n",
      "Done computing similarity matrix.\n"
     ]
    }
   ],
   "source": [
    "# Load up common data set for the recommender algorithms\n",
    "(ml, evaluationData, rankings) = LoadMovieLensData()\n",
    "\n",
    "# Construct an Evaluator to, you know, evaluate them\n",
    "evaluator = Evaluator(evaluationData, rankings)"
   ]
  },
  {
   "cell_type": "code",
   "execution_count": 21,
   "metadata": {},
   "outputs": [],
   "source": [
    "# User-based KNN\n",
    "UserKNN = KNNBasic(sim_options = {'name': 'cosine', 'user_based': True})\n",
    "evaluator.AddAlgorithm(UserKNN, \"User KNN\")"
   ]
  },
  {
   "cell_type": "code",
   "execution_count": 22,
   "metadata": {},
   "outputs": [],
   "source": [
    "# Item-based KNN\n",
    "ItemKNN = KNNBasic(sim_options = {'name': 'cosine', 'user_based': False})\n",
    "evaluator.AddAlgorithm(ItemKNN, \"Item KNN\")"
   ]
  },
  {
   "cell_type": "code",
   "execution_count": 23,
   "metadata": {},
   "outputs": [],
   "source": [
    "# Just make random recommendations\n",
    "Random = NormalPredictor()\n",
    "evaluator.AddAlgorithm(Random, \"Random\")"
   ]
  },
  {
   "cell_type": "code",
   "execution_count": 24,
   "metadata": {},
   "outputs": [
    {
     "name": "stdout",
     "output_type": "stream",
     "text": [
      "Evaluating  User KNN ...\n",
      "Evaluating accuracy...\n",
      "Computing the cosine similarity matrix...\n",
      "Done computing similarity matrix.\n",
      "Analysis complete.\n",
      "Evaluating  Item KNN ...\n",
      "Evaluating accuracy...\n",
      "Computing the cosine similarity matrix...\n",
      "Done computing similarity matrix.\n",
      "Analysis complete.\n",
      "Evaluating  Random ...\n",
      "Evaluating accuracy...\n",
      "Analysis complete.\n",
      "\n",
      "\n",
      "Algorithm  RMSE       MAE       \n",
      "User KNN   0.9961     0.7711    \n",
      "Item KNN   0.9995     0.7798    \n",
      "Random     1.4385     1.1478    \n",
      "\n",
      "Legend:\n",
      "\n",
      "RMSE:      Root Mean Squared Error. Lower values mean better accuracy.\n",
      "MAE:       Mean Absolute Error. Lower values mean better accuracy.\n",
      "\n",
      "Using recommender  User KNN\n",
      "\n",
      "Building recommendation model...\n",
      "Computing the cosine similarity matrix...\n",
      "Done computing similarity matrix.\n",
      "Computing recommendations...\n",
      "\n",
      "We recommend:\n",
      "One Magic Christmas (1985) 5\n",
      "Step Into Liquid (2002) 5\n",
      "Art of War, The (2000) 5\n",
      "Taste of Cherry (Ta'm e guilass) (1997) 5\n",
      "King Is Alive, The (2000) 5\n",
      "Innocence (2000) 5\n",
      "MaelstrÃ¶m (2000) 5\n",
      "Faust (1926) 5\n",
      "Seconds (1966) 5\n",
      "Amazing Grace (2006) 5\n",
      "\n",
      "Using recommender  Item KNN\n",
      "\n",
      "Building recommendation model...\n",
      "Computing the cosine similarity matrix...\n",
      "Done computing similarity matrix.\n",
      "Computing recommendations...\n",
      "\n",
      "We recommend:\n",
      "Life in a Day (2011) 5\n",
      "Under Suspicion (2000) 5\n",
      "Asterix and the Gauls (AstÃ©rix le Gaulois) (1967) 5\n",
      "Find Me Guilty (2006) 5\n",
      "Elementary Particles, The (Elementarteilchen) (2006) 5\n",
      "Asterix and the Vikings (AstÃ©rix et les Vikings) (2006) 5\n",
      "From the Sky Down (2011) 5\n",
      "Vive L'Amour (Ai qing wan sui) (1994) 5\n",
      "Vagabond (Sans toit ni loi) (1985) 5\n",
      "Ariel (1988) 5\n",
      "\n",
      "Using recommender  Random\n",
      "\n",
      "Building recommendation model...\n",
      "Computing recommendations...\n",
      "\n",
      "We recommend:\n",
      "Sleepers (1996) 5\n",
      "Beavis and Butt-Head Do America (1996) 5\n",
      "Fear and Loathing in Las Vegas (1998) 5\n",
      "Happiness (1998) 5\n",
      "Summer of Sam (1999) 5\n",
      "Bowling for Columbine (2002) 5\n",
      "Babe (1995) 5\n",
      "Birdcage, The (1996) 5\n",
      "Carlito's Way (1993) 5\n",
      "Wizard of Oz, The (1939) 5\n"
     ]
    }
   ],
   "source": [
    "# Fight!\n",
    "evaluator.Evaluate(False)\n",
    "\n",
    "evaluator.SampleTopNRecs(ml)"
   ]
  },
  {
   "cell_type": "markdown",
   "metadata": {},
   "source": [
    "Could test sim_options of pearsin and mse"
   ]
  },
  {
   "cell_type": "markdown",
   "metadata": {},
   "source": [
    "Could try KNNWithZScore and KNNWithMeans"
   ]
  },
  {
   "cell_type": "markdown",
   "metadata": {},
   "source": [
    "Translation-based recommendations can be used to predict which film/item a user will watch/buy next. Recommends sequences."
   ]
  },
  {
   "cell_type": "markdown",
   "metadata": {},
   "source": []
  }
 ],
 "metadata": {
  "interpreter": {
   "hash": "aee8b7b246df8f9039afb4144a1f6fd8d2ca17a180786b69acc140d282b71a49"
  },
  "kernelspec": {
   "display_name": "Python 3.9.7 64-bit",
   "name": "python3"
  },
  "language_info": {
   "codemirror_mode": {
    "name": "ipython",
    "version": 3
   },
   "file_extension": ".py",
   "mimetype": "text/x-python",
   "name": "python",
   "nbconvert_exporter": "python",
   "pygments_lexer": "ipython3",
   "version": "3.9.7"
  },
  "orig_nbformat": 4
 },
 "nbformat": 4,
 "nbformat_minor": 2
}
