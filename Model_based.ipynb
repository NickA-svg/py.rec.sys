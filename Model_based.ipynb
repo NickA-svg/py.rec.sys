{
 "cells": [
  {
   "cell_type": "code",
   "execution_count": 1,
   "metadata": {},
   "outputs": [],
   "source": [
    "from MovieLens import MovieLens\n",
    "from surprise import SVD, SVDpp\n",
    "from surprise import NormalPredictor\n",
    "from Evaluator import Evaluator\n",
    "\n",
    "import random\n",
    "import numpy as np"
   ]
  },
  {
   "cell_type": "code",
   "execution_count": 2,
   "metadata": {},
   "outputs": [],
   "source": [
    "def LoadMovieLensData():\n",
    "    ml = MovieLens()\n",
    "    print(\"Loading movie ratings...\")\n",
    "    data = ml.loadMovieLensLatestSmall()\n",
    "    print(\"\\nComputing movie popularity ranks so we can measure novelty later...\")\n",
    "    rankings = ml.getPopularityRanks()\n",
    "    return (ml, data, rankings)\n",
    "\n",
    "np.random.seed(0)\n",
    "random.seed(0)"
   ]
  },
  {
   "cell_type": "code",
   "execution_count": 3,
   "metadata": {},
   "outputs": [
    {
     "name": "stdout",
     "output_type": "stream",
     "text": [
      "Loading movie ratings...\n",
      "\n",
      "Computing movie popularity ranks so we can measure novelty later...\n"
     ]
    }
   ],
   "source": [
    "(ml, evaluationData, rankings) = LoadMovieLensData()"
   ]
  },
  {
   "cell_type": "code",
   "execution_count": 4,
   "metadata": {},
   "outputs": [
    {
     "name": "stdout",
     "output_type": "stream",
     "text": [
      "Estimating biases using als...\n",
      "Computing the cosine similarity matrix...\n",
      "Done computing similarity matrix.\n"
     ]
    }
   ],
   "source": [
    "evaluator = Evaluator(evaluationData, rankings)"
   ]
  },
  {
   "cell_type": "code",
   "execution_count": 5,
   "metadata": {},
   "outputs": [],
   "source": [
    "SVD = SVD()\n",
    "evaluator.AddAlgorithm(SVD, \"SVD\")"
   ]
  },
  {
   "cell_type": "code",
   "execution_count": 6,
   "metadata": {},
   "outputs": [],
   "source": [
    "SVDPlusPlus = SVDpp()\n",
    "evaluator.AddAlgorithm(SVDPlusPlus, \"SVD++\")"
   ]
  },
  {
   "cell_type": "code",
   "execution_count": 7,
   "metadata": {},
   "outputs": [],
   "source": [
    "Random = NormalPredictor()\n",
    "evaluator.AddAlgorithm(Random, \"Random\")"
   ]
  },
  {
   "cell_type": "code",
   "execution_count": 8,
   "metadata": {},
   "outputs": [
    {
     "name": "stdout",
     "output_type": "stream",
     "text": [
      "Evaluating  SVD ...\n",
      "Evaluating accuracy...\n",
      "Analysis complete.\n",
      "Evaluating  SVD++ ...\n",
      "Evaluating accuracy...\n",
      "Analysis complete.\n",
      "Evaluating  Random ...\n",
      "Evaluating accuracy...\n",
      "Analysis complete.\n",
      "\n",
      "\n",
      "Algorithm  RMSE       MAE       \n",
      "SVD        0.9039     0.6984    \n",
      "SVD++      0.8943     0.6887    \n",
      "Random     1.4359     1.1493    \n",
      "\n",
      "Legend:\n",
      "\n",
      "RMSE:      Root Mean Squared Error. Lower values mean better accuracy.\n",
      "MAE:       Mean Absolute Error. Lower values mean better accuracy.\n",
      "\n",
      "Using recommender  SVD\n",
      "\n",
      "Building recommendation model...\n",
      "Computing recommendations...\n",
      "\n",
      "We recommend:\n",
      "Gladiator (1992) 4.520884890007874\n",
      "Philadelphia Story, The (1940) 4.420701711947352\n",
      "Stand by Me (1986) 4.3959589752178365\n",
      "Moon (2009) 4.372613693384055\n",
      "Happiness (1998) 4.369493252705134\n",
      "American Graffiti (1973) 4.353470600109924\n",
      "And Your Mother Too (Y tu mamÃ¡ tambiÃ©n) (2001) 4.3491924926304995\n",
      "Wallace & Gromit: A Close Shave (1995) 4.3154412154304085\n",
      "Band of Brothers (2001) 4.315414828016616\n",
      "Seven Samurai (Shichinin no samurai) (1954) 4.311102920673881\n",
      "\n",
      "Using recommender  SVD++\n",
      "\n",
      "Building recommendation model...\n",
      "Computing recommendations...\n",
      "\n",
      "We recommend:\n",
      "Lock, Stock & Two Smoking Barrels (1998) 4.60422766627621\n",
      "The Imitation Game (2014) 4.457817607681913\n",
      "Amadeus (1984) 4.322529285260794\n",
      "Indiana Jones and the Last Crusade (1989) 4.289355864317423\n",
      "Happiness (1998) 4.260333724293291\n",
      "Harry Potter and the Sorcerer's Stone (a.k.a. Harry Potter and the Philosopher's Stone) (2001) 4.229511982111833\n",
      "Wings of Desire (Himmel Ã¼ber Berlin, Der) (1987) 4.2247114809512345\n",
      "Grand Day Out with Wallace and Gromit, A (1989) 4.223352198994352\n",
      "Charade (1963) 4.208953110263677\n",
      "Snatch (2000) 4.204477673848874\n",
      "\n",
      "Using recommender  Random\n",
      "\n",
      "Building recommendation model...\n",
      "Computing recommendations...\n",
      "\n",
      "We recommend:\n",
      "Usual Suspects, The (1995) 5\n",
      "Legends of the Fall (1994) 5\n",
      "Trainspotting (1996) 5\n",
      "Titanic (1997) 5\n",
      "Happiness (1998) 5\n",
      "Big Daddy (1999) 5\n",
      "Spider-Man 2 (2004) 5\n",
      "Blade Runner (1982) 5\n",
      "Stand by Me (1986) 5\n",
      "Indiana Jones and the Last Crusade (1989) 5\n"
     ]
    }
   ],
   "source": [
    "evaluator.Evaluate(False)\n",
    "\n",
    "evaluator.SampleTopNRecs(ml)"
   ]
  },
  {
   "cell_type": "code",
   "execution_count": 12,
   "metadata": {},
   "outputs": [
    {
     "name": "stdout",
     "output_type": "stream",
     "text": [
      "Searching for best parameters...\n"
     ]
    }
   ],
   "source": [
    "from surprise.model_selection import GridSearchCV\n",
    "from surprise import SVD\n",
    "print(\"Searching for best parameters...\")\n",
    "param_grid = {'n_epochs': [20, 30], 'lr_all': [0.005, 0.010],\n",
    "              'n_factors': [50, 100]}\n",
    "gs = GridSearchCV(SVD, param_grid, measures=['rmse', 'mae'], cv=3)\n",
    "\n",
    "gs.fit(evaluationData)"
   ]
  },
  {
   "cell_type": "code",
   "execution_count": 13,
   "metadata": {},
   "outputs": [
    {
     "name": "stdout",
     "output_type": "stream",
     "text": [
      "Best RMSE score attained:  0.8995438007617033\n",
      "{'n_epochs': 20, 'lr_all': 0.005, 'n_factors': 50}\n"
     ]
    }
   ],
   "source": [
    "# best RMSE score\n",
    "print(\"Best RMSE score attained: \", gs.best_score['rmse'])\n",
    "\n",
    "# combination of parameters that gave the best RMSE score\n",
    "print(gs.best_params['rmse'])"
   ]
  },
  {
   "cell_type": "code",
   "execution_count": 14,
   "metadata": {},
   "outputs": [
    {
     "name": "stdout",
     "output_type": "stream",
     "text": [
      "Estimating biases using als...\n",
      "Computing the cosine similarity matrix...\n",
      "Done computing similarity matrix.\n"
     ]
    }
   ],
   "source": [
    "# Construct an Evaluator to, you know, evaluate them\n",
    "evaluator = Evaluator(evaluationData, rankings)\n",
    "\n",
    "params = gs.best_params['rmse']\n",
    "SVDtuned = SVD(n_epochs = params['n_epochs'], lr_all = params['lr_all'], n_factors = params['n_factors'])\n",
    "evaluator.AddAlgorithm(SVDtuned, \"SVD - Tuned\")\n",
    "\n",
    "SVDUntuned = SVD()\n",
    "evaluator.AddAlgorithm(SVDUntuned, \"SVD - Untuned\")"
   ]
  },
  {
   "cell_type": "code",
   "execution_count": 15,
   "metadata": {},
   "outputs": [],
   "source": [
    "# Just make random recommendations\n",
    "Random = NormalPredictor()\n",
    "evaluator.AddAlgorithm(Random, \"Random\")"
   ]
  },
  {
   "cell_type": "code",
   "execution_count": 16,
   "metadata": {},
   "outputs": [
    {
     "name": "stdout",
     "output_type": "stream",
     "text": [
      "Evaluating  SVD ...\n",
      "Evaluating accuracy...\n",
      "Analysis complete.\n",
      "Evaluating  SVD++ ...\n",
      "Evaluating accuracy...\n",
      "Analysis complete.\n",
      "Evaluating  Random ...\n",
      "Evaluating accuracy...\n",
      "Analysis complete.\n",
      "Evaluating  SVD - Tuned ...\n",
      "Evaluating accuracy...\n",
      "Analysis complete.\n",
      "Evaluating  SVD - Untuned ...\n",
      "Evaluating accuracy...\n",
      "Analysis complete.\n",
      "Evaluating  Random ...\n",
      "Evaluating accuracy...\n",
      "Analysis complete.\n",
      "\n",
      "\n",
      "Algorithm  RMSE       MAE       \n",
      "SVD        0.9041     0.6996    \n",
      "SVD++      0.8951     0.6880    \n",
      "Random     1.4492     1.1555    \n",
      "SVD - Tuned 0.9020     0.6969    \n",
      "SVD - Untuned 0.9028     0.6981    \n",
      "\n",
      "Legend:\n",
      "\n",
      "RMSE:      Root Mean Squared Error. Lower values mean better accuracy.\n",
      "MAE:       Mean Absolute Error. Lower values mean better accuracy.\n",
      "\n",
      "Using recommender  SVD\n",
      "\n",
      "Building recommendation model...\n",
      "Computing recommendations...\n",
      "\n",
      "We recommend:\n",
      "Kids (1995) 4.559904203316939\n",
      "Seven (a.k.a. Se7en) (1995) 4.506499614528053\n",
      "Singin' in the Rain (1952) 4.454751408627558\n",
      "Three Colors: White (Trzy kolory: Bialy) (1994) 4.451444455704279\n",
      "Princess Bride, The (1987) 4.425599196838241\n",
      "Raiders of the Lost Ark (Indiana Jones and the Raiders of the Lost Ark) (1981) 4.4244563644465575\n",
      "African Queen, The (1951) 4.396496886411197\n",
      "Swingers (1996) 4.387398660240349\n",
      "All the President's Men (1976) 4.3845829606235345\n",
      "Back to the Future (1985) 4.340366837148159\n",
      "\n",
      "Using recommender  SVD++\n",
      "\n",
      "Building recommendation model...\n",
      "Computing recommendations...\n",
      "\n",
      "We recommend:\n",
      "Happiness (1998) 4.501930556581494\n",
      "It Happened One Night (1934) 4.326208764324524\n",
      "Star Wars: Episode V - The Empire Strikes Back (1980) 4.267369476688002\n",
      "Three Colors: Blue (Trois couleurs: Bleu) (1993) 4.264481590178397\n",
      "Eat Drink Man Woman (Yin shi nan nu) (1994) 4.259380201006994\n",
      "Once Upon a Time in America (1984) 4.236620674030403\n",
      "Life Is Beautiful (La Vita Ã¨ bella) (1997) 4.212998356060543\n",
      "Seventh Seal, The (Sjunde inseglet, Det) (1957) 4.2047976361601584\n",
      "Much Ado About Nothing (1993) 4.202534428034193\n",
      "Godfather: Part II, The (1974) 4.200644496703141\n",
      "\n",
      "Using recommender  Random\n",
      "\n",
      "Building recommendation model...\n",
      "Computing recommendations...\n",
      "\n",
      "We recommend:\n",
      "Sense and Sensibility (1995) 5\n",
      "Apollo 13 (1995) 5\n",
      "First Knight (1995) 5\n",
      "Mary Shelley's Frankenstein (Frankenstein) (1994) 5\n",
      "Sirens (1994) 5\n",
      "Titanic (1997) 5\n",
      "Saving Private Ryan (1998) 5\n",
      "Spider-Man (2002) 5\n",
      "Rumble in the Bronx (Hont faan kui) (1995) 5\n",
      "Some Like It Hot (1959) 5\n",
      "\n",
      "Using recommender  SVD - Tuned\n",
      "\n",
      "Building recommendation model...\n",
      "Computing recommendations...\n",
      "\n",
      "We recommend:\n",
      "Ideal Husband, An (1999) 4.386136306695318\n",
      "Cinema Paradiso (Nuovo cinema Paradiso) (1989) 4.384293806094272\n",
      "African Queen, The (1951) 4.334501576974016\n",
      "Double Indemnity (1944) 4.309070317826096\n",
      "Sunset Blvd. (a.k.a. Sunset Boulevard) (1950) 4.292025195781473\n",
      "Raging Bull (1980) 4.284756859836085\n",
      "Singin' in the Rain (1952) 4.274665655725484\n",
      "12 Angry Men (1957) 4.264816215408224\n",
      "On the Waterfront (1954) 4.259241508191919\n",
      "Third Man, The (1949) 4.244714654557486\n",
      "\n",
      "Using recommender  SVD - Untuned\n",
      "\n",
      "Building recommendation model...\n",
      "Computing recommendations...\n",
      "\n",
      "We recommend:\n",
      "Office Space (1999) 4.60034096030277\n",
      "Apocalypse Now (1979) 4.523418799982123\n",
      "Gladiator (1992) 4.418147500314668\n",
      "Three Colors: Red (Trois couleurs: Rouge) (1994) 4.4065744057432\n",
      "Reservoir Dogs (1992) 4.403697104051547\n",
      "One Flew Over the Cuckoo's Nest (1975) 4.388861527157546\n",
      "Happiness (1998) 4.384112004453387\n",
      "On the Waterfront (1954) 4.371793056591912\n",
      "Swingers (1996) 4.356018000323469\n",
      "Cinema Paradiso (Nuovo cinema Paradiso) (1989) 4.349913805258533\n",
      "\n",
      "Using recommender  Random\n",
      "\n",
      "Building recommendation model...\n",
      "Computing recommendations...\n",
      "\n",
      "We recommend:\n",
      "Dumbo (1941) 5\n",
      "Escape from New York (1981) 5\n",
      "Gandhi (1982) 5\n",
      "Time Bandits (1981) 5\n",
      "Mr. Holland's Opus (1995) 5\n",
      "Brothers McMullen, The (1995) 5\n",
      "Houseguest (1994) 5\n",
      "Wallace & Gromit: The Best of Aardman Animation (1996) 5\n",
      "Major Payne (1995) 5\n",
      "Fear and Loathing in Las Vegas (1998) 5\n"
     ]
    }
   ],
   "source": [
    "evaluator.Evaluate(False)\n",
    "\n",
    "evaluator.SampleTopNRecs(ml)"
   ]
  },
  {
   "cell_type": "code",
   "execution_count": null,
   "metadata": {},
   "outputs": [],
   "source": []
  }
 ],
 "metadata": {
  "interpreter": {
   "hash": "aee8b7b246df8f9039afb4144a1f6fd8d2ca17a180786b69acc140d282b71a49"
  },
  "kernelspec": {
   "display_name": "Python 3.9.7 64-bit",
   "name": "python3"
  },
  "language_info": {
   "codemirror_mode": {
    "name": "ipython",
    "version": 3
   },
   "file_extension": ".py",
   "mimetype": "text/x-python",
   "name": "python",
   "nbconvert_exporter": "python",
   "pygments_lexer": "ipython3",
   "version": "3.9.7"
  },
  "orig_nbformat": 4
 },
 "nbformat": 4,
 "nbformat_minor": 2
}
